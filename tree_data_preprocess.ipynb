{
  "nbformat": 4,
  "nbformat_minor": 0,
  "metadata": {
    "colab": {
      "provenance": []
    },
    "kernelspec": {
      "name": "python3",
      "display_name": "Python 3"
    },
    "language_info": {
      "name": "python"
    }
  },
  "cells": [
    {
      "cell_type": "code",
      "execution_count": 1,
      "metadata": {
        "id": "Ww7oey7yRawc"
      },
      "outputs": [],
      "source": [
        "import pandas as pd\n",
        "import numpy as np"
      ]
    },
    {
      "cell_type": "code",
      "source": [
        "data = pd.read_csv('Street_Tree_List-2022-01-30_FILTERED.csv')"
      ],
      "metadata": {
        "id": "NNnKPIeNRjke"
      },
      "execution_count": 3,
      "outputs": []
    },
    {
      "cell_type": "code",
      "source": [
        "data"
      ],
      "metadata": {
        "colab": {
          "base_uri": "https://localhost:8080/",
          "height": 884
        },
        "id": "YzEoK-hETB-H",
        "outputId": "d5ccf038-5f20-4328-85e5-21846847ef10"
      },
      "execution_count": 8,
      "outputs": [
        {
          "output_type": "execute_result",
          "data": {
            "text/plain": [
              "       TreeID    qLegalStatus  \\\n",
              "0      200311  DPW Maintained   \n",
              "1       10425  DPW Maintained   \n",
              "2       43163  DPW Maintained   \n",
              "3      188921  DPW Maintained   \n",
              "4         643  DPW Maintained   \n",
              "...       ...             ...   \n",
              "37113  141243  DPW Maintained   \n",
              "37114  203553  DPW Maintained   \n",
              "37115   61778  DPW Maintained   \n",
              "37116  190242  DPW Maintained   \n",
              "37117  192307  DPW Maintained   \n",
              "\n",
              "                                                qSpecies  \\\n",
              "0      Liquidambar styraciflua 'Rotundiloba' :: Round...   \n",
              "1           Schinus terebinthifolius :: Brazilian Pepper   \n",
              "2                 Acacia melanoxylon :: Blackwood Acacia   \n",
              "3              Callistemon citrinus :: Lemon Bottlebrush   \n",
              "4                     Ficus microcarpa :: Chinese Banyan   \n",
              "...                                                  ...   \n",
              "37113          Magnolia grandiflora :: Southern Magnolia   \n",
              "37114               Agonis flexuosa :: Peppermint Willow   \n",
              "37115                Eriobotrya deflexa :: Bronze Loquat   \n",
              "37116  Ficus microcarpa nitida 'Green Gem' :: Indian ...   \n",
              "37117                            Fraxinus spp :: Ash Spp   \n",
              "\n",
              "                   qAddress  SiteOrder                       qSiteInfo  \\\n",
              "0              300 Spear St        9.0      Sidewalk: Curb side : Yard   \n",
              "1            1419 Haight St        2.0    Sidewalk: Curb side : Cutout   \n",
              "2            222 Madison St        1.0    Sidewalk: Curb side : Cutout   \n",
              "3              2001 25th St       16.0  Sidewalk: Property side : Yard   \n",
              "4              3224 24th St        1.0    Sidewalk: Curb side : Cutout   \n",
              "...                     ...        ...                             ...   \n",
              "37113   31 COMMONWEALTH AVE        1.0      Sidewalk: Curb side : Yard   \n",
              "37114         259 Faxon Ave        1.0    Sidewalk: Curb side : Cutout   \n",
              "37115          2219 24th St        1.0    Sidewalk: Curb side : Cutout   \n",
              "37116  60 New Montgomery St        3.0       Sidewalk: Curb side : Pot   \n",
              "37117        100 De Haro St        1.0    Sidewalk: Curb side : Cutout   \n",
              "\n",
              "      qCaretaker     PlantDate  DBH   PlotSize   Latitude   Longitude  \n",
              "0        Private           NaN    5        NaN  37.789193 -122.390006  \n",
              "1            DPW           NaN   90        3x3  37.770094 -122.445693  \n",
              "2        Private  7/11/00 0:00    8        NaN  37.726036 -122.422690  \n",
              "3        Private           NaN    6  Width 8ft  37.751955 -122.399482  \n",
              "4        Private           NaN   18        3x3  37.752398 -122.416772  \n",
              "...          ...           ...  ...        ...        ...         ...  \n",
              "37113    Private           NaN   10  Width 0ft  37.785434 -122.455909  \n",
              "37114    Private           NaN    2  Width 3ft  37.719278 -122.460296  \n",
              "37115    Private  1/22/85 0:00   13        NaN  37.753203 -122.401882  \n",
              "37116    Private           NaN    2  Width 3ft  37.788459 -122.401854  \n",
              "37117    Private           NaN   12  Width 4ft  37.767303 -122.401956  \n",
              "\n",
              "[37118 rows x 12 columns]"
            ],
            "text/html": [
              "\n",
              "  <div id=\"df-6c241afb-d332-4f24-8859-9d97b90bc833\">\n",
              "    <div class=\"colab-df-container\">\n",
              "      <div>\n",
              "<style scoped>\n",
              "    .dataframe tbody tr th:only-of-type {\n",
              "        vertical-align: middle;\n",
              "    }\n",
              "\n",
              "    .dataframe tbody tr th {\n",
              "        vertical-align: top;\n",
              "    }\n",
              "\n",
              "    .dataframe thead th {\n",
              "        text-align: right;\n",
              "    }\n",
              "</style>\n",
              "<table border=\"1\" class=\"dataframe\">\n",
              "  <thead>\n",
              "    <tr style=\"text-align: right;\">\n",
              "      <th></th>\n",
              "      <th>TreeID</th>\n",
              "      <th>qLegalStatus</th>\n",
              "      <th>qSpecies</th>\n",
              "      <th>qAddress</th>\n",
              "      <th>SiteOrder</th>\n",
              "      <th>qSiteInfo</th>\n",
              "      <th>qCaretaker</th>\n",
              "      <th>PlantDate</th>\n",
              "      <th>DBH</th>\n",
              "      <th>PlotSize</th>\n",
              "      <th>Latitude</th>\n",
              "      <th>Longitude</th>\n",
              "    </tr>\n",
              "  </thead>\n",
              "  <tbody>\n",
              "    <tr>\n",
              "      <th>0</th>\n",
              "      <td>200311</td>\n",
              "      <td>DPW Maintained</td>\n",
              "      <td>Liquidambar styraciflua 'Rotundiloba' :: Round...</td>\n",
              "      <td>300 Spear St</td>\n",
              "      <td>9.0</td>\n",
              "      <td>Sidewalk: Curb side : Yard</td>\n",
              "      <td>Private</td>\n",
              "      <td>NaN</td>\n",
              "      <td>5</td>\n",
              "      <td>NaN</td>\n",
              "      <td>37.789193</td>\n",
              "      <td>-122.390006</td>\n",
              "    </tr>\n",
              "    <tr>\n",
              "      <th>1</th>\n",
              "      <td>10425</td>\n",
              "      <td>DPW Maintained</td>\n",
              "      <td>Schinus terebinthifolius :: Brazilian Pepper</td>\n",
              "      <td>1419 Haight St</td>\n",
              "      <td>2.0</td>\n",
              "      <td>Sidewalk: Curb side : Cutout</td>\n",
              "      <td>DPW</td>\n",
              "      <td>NaN</td>\n",
              "      <td>90</td>\n",
              "      <td>3x3</td>\n",
              "      <td>37.770094</td>\n",
              "      <td>-122.445693</td>\n",
              "    </tr>\n",
              "    <tr>\n",
              "      <th>2</th>\n",
              "      <td>43163</td>\n",
              "      <td>DPW Maintained</td>\n",
              "      <td>Acacia melanoxylon :: Blackwood Acacia</td>\n",
              "      <td>222 Madison St</td>\n",
              "      <td>1.0</td>\n",
              "      <td>Sidewalk: Curb side : Cutout</td>\n",
              "      <td>Private</td>\n",
              "      <td>7/11/00 0:00</td>\n",
              "      <td>8</td>\n",
              "      <td>NaN</td>\n",
              "      <td>37.726036</td>\n",
              "      <td>-122.422690</td>\n",
              "    </tr>\n",
              "    <tr>\n",
              "      <th>3</th>\n",
              "      <td>188921</td>\n",
              "      <td>DPW Maintained</td>\n",
              "      <td>Callistemon citrinus :: Lemon Bottlebrush</td>\n",
              "      <td>2001 25th St</td>\n",
              "      <td>16.0</td>\n",
              "      <td>Sidewalk: Property side : Yard</td>\n",
              "      <td>Private</td>\n",
              "      <td>NaN</td>\n",
              "      <td>6</td>\n",
              "      <td>Width 8ft</td>\n",
              "      <td>37.751955</td>\n",
              "      <td>-122.399482</td>\n",
              "    </tr>\n",
              "    <tr>\n",
              "      <th>4</th>\n",
              "      <td>643</td>\n",
              "      <td>DPW Maintained</td>\n",
              "      <td>Ficus microcarpa :: Chinese Banyan</td>\n",
              "      <td>3224 24th St</td>\n",
              "      <td>1.0</td>\n",
              "      <td>Sidewalk: Curb side : Cutout</td>\n",
              "      <td>Private</td>\n",
              "      <td>NaN</td>\n",
              "      <td>18</td>\n",
              "      <td>3x3</td>\n",
              "      <td>37.752398</td>\n",
              "      <td>-122.416772</td>\n",
              "    </tr>\n",
              "    <tr>\n",
              "      <th>...</th>\n",
              "      <td>...</td>\n",
              "      <td>...</td>\n",
              "      <td>...</td>\n",
              "      <td>...</td>\n",
              "      <td>...</td>\n",
              "      <td>...</td>\n",
              "      <td>...</td>\n",
              "      <td>...</td>\n",
              "      <td>...</td>\n",
              "      <td>...</td>\n",
              "      <td>...</td>\n",
              "      <td>...</td>\n",
              "    </tr>\n",
              "    <tr>\n",
              "      <th>37113</th>\n",
              "      <td>141243</td>\n",
              "      <td>DPW Maintained</td>\n",
              "      <td>Magnolia grandiflora :: Southern Magnolia</td>\n",
              "      <td>31 COMMONWEALTH AVE</td>\n",
              "      <td>1.0</td>\n",
              "      <td>Sidewalk: Curb side : Yard</td>\n",
              "      <td>Private</td>\n",
              "      <td>NaN</td>\n",
              "      <td>10</td>\n",
              "      <td>Width 0ft</td>\n",
              "      <td>37.785434</td>\n",
              "      <td>-122.455909</td>\n",
              "    </tr>\n",
              "    <tr>\n",
              "      <th>37114</th>\n",
              "      <td>203553</td>\n",
              "      <td>DPW Maintained</td>\n",
              "      <td>Agonis flexuosa :: Peppermint Willow</td>\n",
              "      <td>259 Faxon Ave</td>\n",
              "      <td>1.0</td>\n",
              "      <td>Sidewalk: Curb side : Cutout</td>\n",
              "      <td>Private</td>\n",
              "      <td>NaN</td>\n",
              "      <td>2</td>\n",
              "      <td>Width 3ft</td>\n",
              "      <td>37.719278</td>\n",
              "      <td>-122.460296</td>\n",
              "    </tr>\n",
              "    <tr>\n",
              "      <th>37115</th>\n",
              "      <td>61778</td>\n",
              "      <td>DPW Maintained</td>\n",
              "      <td>Eriobotrya deflexa :: Bronze Loquat</td>\n",
              "      <td>2219 24th St</td>\n",
              "      <td>1.0</td>\n",
              "      <td>Sidewalk: Curb side : Cutout</td>\n",
              "      <td>Private</td>\n",
              "      <td>1/22/85 0:00</td>\n",
              "      <td>13</td>\n",
              "      <td>NaN</td>\n",
              "      <td>37.753203</td>\n",
              "      <td>-122.401882</td>\n",
              "    </tr>\n",
              "    <tr>\n",
              "      <th>37116</th>\n",
              "      <td>190242</td>\n",
              "      <td>DPW Maintained</td>\n",
              "      <td>Ficus microcarpa nitida 'Green Gem' :: Indian ...</td>\n",
              "      <td>60 New Montgomery St</td>\n",
              "      <td>3.0</td>\n",
              "      <td>Sidewalk: Curb side : Pot</td>\n",
              "      <td>Private</td>\n",
              "      <td>NaN</td>\n",
              "      <td>2</td>\n",
              "      <td>Width 3ft</td>\n",
              "      <td>37.788459</td>\n",
              "      <td>-122.401854</td>\n",
              "    </tr>\n",
              "    <tr>\n",
              "      <th>37117</th>\n",
              "      <td>192307</td>\n",
              "      <td>DPW Maintained</td>\n",
              "      <td>Fraxinus spp :: Ash Spp</td>\n",
              "      <td>100 De Haro St</td>\n",
              "      <td>1.0</td>\n",
              "      <td>Sidewalk: Curb side : Cutout</td>\n",
              "      <td>Private</td>\n",
              "      <td>NaN</td>\n",
              "      <td>12</td>\n",
              "      <td>Width 4ft</td>\n",
              "      <td>37.767303</td>\n",
              "      <td>-122.401956</td>\n",
              "    </tr>\n",
              "  </tbody>\n",
              "</table>\n",
              "<p>37118 rows × 12 columns</p>\n",
              "</div>\n",
              "      <button class=\"colab-df-convert\" onclick=\"convertToInteractive('df-6c241afb-d332-4f24-8859-9d97b90bc833')\"\n",
              "              title=\"Convert this dataframe to an interactive table.\"\n",
              "              style=\"display:none;\">\n",
              "        \n",
              "  <svg xmlns=\"http://www.w3.org/2000/svg\" height=\"24px\"viewBox=\"0 0 24 24\"\n",
              "       width=\"24px\">\n",
              "    <path d=\"M0 0h24v24H0V0z\" fill=\"none\"/>\n",
              "    <path d=\"M18.56 5.44l.94 2.06.94-2.06 2.06-.94-2.06-.94-.94-2.06-.94 2.06-2.06.94zm-11 1L8.5 8.5l.94-2.06 2.06-.94-2.06-.94L8.5 2.5l-.94 2.06-2.06.94zm10 10l.94 2.06.94-2.06 2.06-.94-2.06-.94-.94-2.06-.94 2.06-2.06.94z\"/><path d=\"M17.41 7.96l-1.37-1.37c-.4-.4-.92-.59-1.43-.59-.52 0-1.04.2-1.43.59L10.3 9.45l-7.72 7.72c-.78.78-.78 2.05 0 2.83L4 21.41c.39.39.9.59 1.41.59.51 0 1.02-.2 1.41-.59l7.78-7.78 2.81-2.81c.8-.78.8-2.07 0-2.86zM5.41 20L4 18.59l7.72-7.72 1.47 1.35L5.41 20z\"/>\n",
              "  </svg>\n",
              "      </button>\n",
              "      \n",
              "  <style>\n",
              "    .colab-df-container {\n",
              "      display:flex;\n",
              "      flex-wrap:wrap;\n",
              "      gap: 12px;\n",
              "    }\n",
              "\n",
              "    .colab-df-convert {\n",
              "      background-color: #E8F0FE;\n",
              "      border: none;\n",
              "      border-radius: 50%;\n",
              "      cursor: pointer;\n",
              "      display: none;\n",
              "      fill: #1967D2;\n",
              "      height: 32px;\n",
              "      padding: 0 0 0 0;\n",
              "      width: 32px;\n",
              "    }\n",
              "\n",
              "    .colab-df-convert:hover {\n",
              "      background-color: #E2EBFA;\n",
              "      box-shadow: 0px 1px 2px rgba(60, 64, 67, 0.3), 0px 1px 3px 1px rgba(60, 64, 67, 0.15);\n",
              "      fill: #174EA6;\n",
              "    }\n",
              "\n",
              "    [theme=dark] .colab-df-convert {\n",
              "      background-color: #3B4455;\n",
              "      fill: #D2E3FC;\n",
              "    }\n",
              "\n",
              "    [theme=dark] .colab-df-convert:hover {\n",
              "      background-color: #434B5C;\n",
              "      box-shadow: 0px 1px 3px 1px rgba(0, 0, 0, 0.15);\n",
              "      filter: drop-shadow(0px 1px 2px rgba(0, 0, 0, 0.3));\n",
              "      fill: #FFFFFF;\n",
              "    }\n",
              "  </style>\n",
              "\n",
              "      <script>\n",
              "        const buttonEl =\n",
              "          document.querySelector('#df-6c241afb-d332-4f24-8859-9d97b90bc833 button.colab-df-convert');\n",
              "        buttonEl.style.display =\n",
              "          google.colab.kernel.accessAllowed ? 'block' : 'none';\n",
              "\n",
              "        async function convertToInteractive(key) {\n",
              "          const element = document.querySelector('#df-6c241afb-d332-4f24-8859-9d97b90bc833');\n",
              "          const dataTable =\n",
              "            await google.colab.kernel.invokeFunction('convertToInteractive',\n",
              "                                                     [key], {});\n",
              "          if (!dataTable) return;\n",
              "\n",
              "          const docLinkHtml = 'Like what you see? Visit the ' +\n",
              "            '<a target=\"_blank\" href=https://colab.research.google.com/notebooks/data_table.ipynb>data table notebook</a>'\n",
              "            + ' to learn more about interactive tables.';\n",
              "          element.innerHTML = '';\n",
              "          dataTable['output_type'] = 'display_data';\n",
              "          await google.colab.output.renderOutput(dataTable, element);\n",
              "          const docLink = document.createElement('div');\n",
              "          docLink.innerHTML = docLinkHtml;\n",
              "          element.appendChild(docLink);\n",
              "        }\n",
              "      </script>\n",
              "    </div>\n",
              "  </div>\n",
              "  "
            ]
          },
          "metadata": {},
          "execution_count": 8
        }
      ]
    },
    {
      "cell_type": "code",
      "source": [
        "yrdata = data[data['PlantDate'].notnull()]"
      ],
      "metadata": {
        "id": "40nx4wCgSbeN"
      },
      "execution_count": 6,
      "outputs": []
    },
    {
      "cell_type": "code",
      "source": [
        "yrdata['year']"
      ],
      "metadata": {
        "colab": {
          "base_uri": "https://localhost:8080/"
        },
        "id": "HqkBuQ0SdxJM",
        "outputId": "59767027-76b3-4c8f-bbf7-57c82a1e8ffb"
      },
      "execution_count": 48,
      "outputs": [
        {
          "output_type": "execute_result",
          "data": {
            "text/plain": [
              "2        2000\n",
              "10       2010\n",
              "13       2015\n",
              "14       2008\n",
              "18       2017\n",
              "         ... \n",
              "37093    2008\n",
              "37099    1998\n",
              "37102    2018\n",
              "37111    1989\n",
              "37115    1985\n",
              "Name: year, Length: 9337, dtype: object"
            ]
          },
          "metadata": {},
          "execution_count": 48
        }
      ]
    },
    {
      "cell_type": "code",
      "source": [
        "yrdata"
      ],
      "metadata": {
        "colab": {
          "base_uri": "https://localhost:8080/",
          "height": 693
        },
        "id": "wTk1hhhuS9Pv",
        "outputId": "60bb0d83-5f23-4768-d76d-0862749c2525"
      },
      "execution_count": 7,
      "outputs": [
        {
          "output_type": "execute_result",
          "data": {
            "text/plain": [
              "       TreeID    qLegalStatus  \\\n",
              "2       43163  DPW Maintained   \n",
              "10      94792  DPW Maintained   \n",
              "13      29149  DPW Maintained   \n",
              "14      82688  DPW Maintained   \n",
              "18      30326  DPW Maintained   \n",
              "...       ...             ...   \n",
              "37093   90144  DPW Maintained   \n",
              "37099   38541  DPW Maintained   \n",
              "37102    1457  DPW Maintained   \n",
              "37111   54849  DPW Maintained   \n",
              "37115   61778  DPW Maintained   \n",
              "\n",
              "                                                qSpecies           qAddress  \\\n",
              "2                 Acacia melanoxylon :: Blackwood Acacia     222 Madison St   \n",
              "10                             Maytenus boaria :: Mayten        2 Laurel St   \n",
              "13                 Lophostemon confertus :: Brisbane Box      301X Jones St   \n",
              "14               Crataegus laevigata :: English Hawthorn      1875 38th Ave   \n",
              "18                 Tristaniopsis laurina :: Swamp Myrtle    946 Capitol Ave   \n",
              "...                                                  ...                ...   \n",
              "37093  Tristaniopsis laurina 'Elegant' :: Small-leaf ...      338 Balboa St   \n",
              "37099          Magnolia grandiflora :: Southern Magnolia   1543 Jennings St   \n",
              "37102             Pittosporum undulatum :: Victorian Box  160 Arguello Blvd   \n",
              "37111                   Prunus cerasifera :: Cherry Plum      2076 Grove St   \n",
              "37115                Eriobotrya deflexa :: Bronze Loquat       2219 24th St   \n",
              "\n",
              "       SiteOrder                     qSiteInfo qCaretaker       PlantDate  \\\n",
              "2            1.0  Sidewalk: Curb side : Cutout    Private    7/11/00 0:00   \n",
              "10           4.0  Sidewalk: Curb side : Cutout    Private    11/8/10 0:00   \n",
              "13           1.0  Sidewalk: Curb side : Cutout        DPW    6/13/15 0:00   \n",
              "14           1.0  Sidewalk: Curb side : Cutout    Private    6/30/08 0:00   \n",
              "18           1.0  Sidewalk: Curb side : Cutout    Private  10/13/17 11:13   \n",
              "...          ...                           ...        ...             ...   \n",
              "37093        1.0  Sidewalk: Curb side : Cutout        DPW    2/11/08 0:00   \n",
              "37099        1.0  Sidewalk: Curb side : Cutout    Private    9/17/98 0:00   \n",
              "37102        1.0  Sidewalk: Curb side : Cutout        DPW    3/29/18 0:00   \n",
              "37111        1.0  Sidewalk: Curb side : Cutout    Private     4/3/89 0:00   \n",
              "37115        1.0  Sidewalk: Curb side : Cutout    Private    1/22/85 0:00   \n",
              "\n",
              "       DBH PlotSize   Latitude   Longitude  \n",
              "2        8      NaN  37.726036 -122.422690  \n",
              "10      13      NaN  37.790988 -122.450849  \n",
              "13       3      3x3  37.783950 -122.412686  \n",
              "14       2      3x3  37.751978 -122.496833  \n",
              "18       3      NaN  37.719069 -122.459124  \n",
              "...    ...      ...        ...         ...  \n",
              "37093    3      3x3  37.777378 -122.462528  \n",
              "37099    7      NaN  37.730299 -122.385654  \n",
              "37102    3      3X3  37.787257 -122.459200  \n",
              "37111    8      NaN  37.774373 -122.450701  \n",
              "37115   13      NaN  37.753203 -122.401882  \n",
              "\n",
              "[9337 rows x 12 columns]"
            ],
            "text/html": [
              "\n",
              "  <div id=\"df-070dd83d-4727-4e52-b66d-5192b85e7f31\">\n",
              "    <div class=\"colab-df-container\">\n",
              "      <div>\n",
              "<style scoped>\n",
              "    .dataframe tbody tr th:only-of-type {\n",
              "        vertical-align: middle;\n",
              "    }\n",
              "\n",
              "    .dataframe tbody tr th {\n",
              "        vertical-align: top;\n",
              "    }\n",
              "\n",
              "    .dataframe thead th {\n",
              "        text-align: right;\n",
              "    }\n",
              "</style>\n",
              "<table border=\"1\" class=\"dataframe\">\n",
              "  <thead>\n",
              "    <tr style=\"text-align: right;\">\n",
              "      <th></th>\n",
              "      <th>TreeID</th>\n",
              "      <th>qLegalStatus</th>\n",
              "      <th>qSpecies</th>\n",
              "      <th>qAddress</th>\n",
              "      <th>SiteOrder</th>\n",
              "      <th>qSiteInfo</th>\n",
              "      <th>qCaretaker</th>\n",
              "      <th>PlantDate</th>\n",
              "      <th>DBH</th>\n",
              "      <th>PlotSize</th>\n",
              "      <th>Latitude</th>\n",
              "      <th>Longitude</th>\n",
              "    </tr>\n",
              "  </thead>\n",
              "  <tbody>\n",
              "    <tr>\n",
              "      <th>2</th>\n",
              "      <td>43163</td>\n",
              "      <td>DPW Maintained</td>\n",
              "      <td>Acacia melanoxylon :: Blackwood Acacia</td>\n",
              "      <td>222 Madison St</td>\n",
              "      <td>1.0</td>\n",
              "      <td>Sidewalk: Curb side : Cutout</td>\n",
              "      <td>Private</td>\n",
              "      <td>7/11/00 0:00</td>\n",
              "      <td>8</td>\n",
              "      <td>NaN</td>\n",
              "      <td>37.726036</td>\n",
              "      <td>-122.422690</td>\n",
              "    </tr>\n",
              "    <tr>\n",
              "      <th>10</th>\n",
              "      <td>94792</td>\n",
              "      <td>DPW Maintained</td>\n",
              "      <td>Maytenus boaria :: Mayten</td>\n",
              "      <td>2 Laurel St</td>\n",
              "      <td>4.0</td>\n",
              "      <td>Sidewalk: Curb side : Cutout</td>\n",
              "      <td>Private</td>\n",
              "      <td>11/8/10 0:00</td>\n",
              "      <td>13</td>\n",
              "      <td>NaN</td>\n",
              "      <td>37.790988</td>\n",
              "      <td>-122.450849</td>\n",
              "    </tr>\n",
              "    <tr>\n",
              "      <th>13</th>\n",
              "      <td>29149</td>\n",
              "      <td>DPW Maintained</td>\n",
              "      <td>Lophostemon confertus :: Brisbane Box</td>\n",
              "      <td>301X Jones St</td>\n",
              "      <td>1.0</td>\n",
              "      <td>Sidewalk: Curb side : Cutout</td>\n",
              "      <td>DPW</td>\n",
              "      <td>6/13/15 0:00</td>\n",
              "      <td>3</td>\n",
              "      <td>3x3</td>\n",
              "      <td>37.783950</td>\n",
              "      <td>-122.412686</td>\n",
              "    </tr>\n",
              "    <tr>\n",
              "      <th>14</th>\n",
              "      <td>82688</td>\n",
              "      <td>DPW Maintained</td>\n",
              "      <td>Crataegus laevigata :: English Hawthorn</td>\n",
              "      <td>1875 38th Ave</td>\n",
              "      <td>1.0</td>\n",
              "      <td>Sidewalk: Curb side : Cutout</td>\n",
              "      <td>Private</td>\n",
              "      <td>6/30/08 0:00</td>\n",
              "      <td>2</td>\n",
              "      <td>3x3</td>\n",
              "      <td>37.751978</td>\n",
              "      <td>-122.496833</td>\n",
              "    </tr>\n",
              "    <tr>\n",
              "      <th>18</th>\n",
              "      <td>30326</td>\n",
              "      <td>DPW Maintained</td>\n",
              "      <td>Tristaniopsis laurina :: Swamp Myrtle</td>\n",
              "      <td>946 Capitol Ave</td>\n",
              "      <td>1.0</td>\n",
              "      <td>Sidewalk: Curb side : Cutout</td>\n",
              "      <td>Private</td>\n",
              "      <td>10/13/17 11:13</td>\n",
              "      <td>3</td>\n",
              "      <td>NaN</td>\n",
              "      <td>37.719069</td>\n",
              "      <td>-122.459124</td>\n",
              "    </tr>\n",
              "    <tr>\n",
              "      <th>...</th>\n",
              "      <td>...</td>\n",
              "      <td>...</td>\n",
              "      <td>...</td>\n",
              "      <td>...</td>\n",
              "      <td>...</td>\n",
              "      <td>...</td>\n",
              "      <td>...</td>\n",
              "      <td>...</td>\n",
              "      <td>...</td>\n",
              "      <td>...</td>\n",
              "      <td>...</td>\n",
              "      <td>...</td>\n",
              "    </tr>\n",
              "    <tr>\n",
              "      <th>37093</th>\n",
              "      <td>90144</td>\n",
              "      <td>DPW Maintained</td>\n",
              "      <td>Tristaniopsis laurina 'Elegant' :: Small-leaf ...</td>\n",
              "      <td>338 Balboa St</td>\n",
              "      <td>1.0</td>\n",
              "      <td>Sidewalk: Curb side : Cutout</td>\n",
              "      <td>DPW</td>\n",
              "      <td>2/11/08 0:00</td>\n",
              "      <td>3</td>\n",
              "      <td>3x3</td>\n",
              "      <td>37.777378</td>\n",
              "      <td>-122.462528</td>\n",
              "    </tr>\n",
              "    <tr>\n",
              "      <th>37099</th>\n",
              "      <td>38541</td>\n",
              "      <td>DPW Maintained</td>\n",
              "      <td>Magnolia grandiflora :: Southern Magnolia</td>\n",
              "      <td>1543 Jennings St</td>\n",
              "      <td>1.0</td>\n",
              "      <td>Sidewalk: Curb side : Cutout</td>\n",
              "      <td>Private</td>\n",
              "      <td>9/17/98 0:00</td>\n",
              "      <td>7</td>\n",
              "      <td>NaN</td>\n",
              "      <td>37.730299</td>\n",
              "      <td>-122.385654</td>\n",
              "    </tr>\n",
              "    <tr>\n",
              "      <th>37102</th>\n",
              "      <td>1457</td>\n",
              "      <td>DPW Maintained</td>\n",
              "      <td>Pittosporum undulatum :: Victorian Box</td>\n",
              "      <td>160 Arguello Blvd</td>\n",
              "      <td>1.0</td>\n",
              "      <td>Sidewalk: Curb side : Cutout</td>\n",
              "      <td>DPW</td>\n",
              "      <td>3/29/18 0:00</td>\n",
              "      <td>3</td>\n",
              "      <td>3X3</td>\n",
              "      <td>37.787257</td>\n",
              "      <td>-122.459200</td>\n",
              "    </tr>\n",
              "    <tr>\n",
              "      <th>37111</th>\n",
              "      <td>54849</td>\n",
              "      <td>DPW Maintained</td>\n",
              "      <td>Prunus cerasifera :: Cherry Plum</td>\n",
              "      <td>2076 Grove St</td>\n",
              "      <td>1.0</td>\n",
              "      <td>Sidewalk: Curb side : Cutout</td>\n",
              "      <td>Private</td>\n",
              "      <td>4/3/89 0:00</td>\n",
              "      <td>8</td>\n",
              "      <td>NaN</td>\n",
              "      <td>37.774373</td>\n",
              "      <td>-122.450701</td>\n",
              "    </tr>\n",
              "    <tr>\n",
              "      <th>37115</th>\n",
              "      <td>61778</td>\n",
              "      <td>DPW Maintained</td>\n",
              "      <td>Eriobotrya deflexa :: Bronze Loquat</td>\n",
              "      <td>2219 24th St</td>\n",
              "      <td>1.0</td>\n",
              "      <td>Sidewalk: Curb side : Cutout</td>\n",
              "      <td>Private</td>\n",
              "      <td>1/22/85 0:00</td>\n",
              "      <td>13</td>\n",
              "      <td>NaN</td>\n",
              "      <td>37.753203</td>\n",
              "      <td>-122.401882</td>\n",
              "    </tr>\n",
              "  </tbody>\n",
              "</table>\n",
              "<p>9337 rows × 12 columns</p>\n",
              "</div>\n",
              "      <button class=\"colab-df-convert\" onclick=\"convertToInteractive('df-070dd83d-4727-4e52-b66d-5192b85e7f31')\"\n",
              "              title=\"Convert this dataframe to an interactive table.\"\n",
              "              style=\"display:none;\">\n",
              "        \n",
              "  <svg xmlns=\"http://www.w3.org/2000/svg\" height=\"24px\"viewBox=\"0 0 24 24\"\n",
              "       width=\"24px\">\n",
              "    <path d=\"M0 0h24v24H0V0z\" fill=\"none\"/>\n",
              "    <path d=\"M18.56 5.44l.94 2.06.94-2.06 2.06-.94-2.06-.94-.94-2.06-.94 2.06-2.06.94zm-11 1L8.5 8.5l.94-2.06 2.06-.94-2.06-.94L8.5 2.5l-.94 2.06-2.06.94zm10 10l.94 2.06.94-2.06 2.06-.94-2.06-.94-.94-2.06-.94 2.06-2.06.94z\"/><path d=\"M17.41 7.96l-1.37-1.37c-.4-.4-.92-.59-1.43-.59-.52 0-1.04.2-1.43.59L10.3 9.45l-7.72 7.72c-.78.78-.78 2.05 0 2.83L4 21.41c.39.39.9.59 1.41.59.51 0 1.02-.2 1.41-.59l7.78-7.78 2.81-2.81c.8-.78.8-2.07 0-2.86zM5.41 20L4 18.59l7.72-7.72 1.47 1.35L5.41 20z\"/>\n",
              "  </svg>\n",
              "      </button>\n",
              "      \n",
              "  <style>\n",
              "    .colab-df-container {\n",
              "      display:flex;\n",
              "      flex-wrap:wrap;\n",
              "      gap: 12px;\n",
              "    }\n",
              "\n",
              "    .colab-df-convert {\n",
              "      background-color: #E8F0FE;\n",
              "      border: none;\n",
              "      border-radius: 50%;\n",
              "      cursor: pointer;\n",
              "      display: none;\n",
              "      fill: #1967D2;\n",
              "      height: 32px;\n",
              "      padding: 0 0 0 0;\n",
              "      width: 32px;\n",
              "    }\n",
              "\n",
              "    .colab-df-convert:hover {\n",
              "      background-color: #E2EBFA;\n",
              "      box-shadow: 0px 1px 2px rgba(60, 64, 67, 0.3), 0px 1px 3px 1px rgba(60, 64, 67, 0.15);\n",
              "      fill: #174EA6;\n",
              "    }\n",
              "\n",
              "    [theme=dark] .colab-df-convert {\n",
              "      background-color: #3B4455;\n",
              "      fill: #D2E3FC;\n",
              "    }\n",
              "\n",
              "    [theme=dark] .colab-df-convert:hover {\n",
              "      background-color: #434B5C;\n",
              "      box-shadow: 0px 1px 3px 1px rgba(0, 0, 0, 0.15);\n",
              "      filter: drop-shadow(0px 1px 2px rgba(0, 0, 0, 0.3));\n",
              "      fill: #FFFFFF;\n",
              "    }\n",
              "  </style>\n",
              "\n",
              "      <script>\n",
              "        const buttonEl =\n",
              "          document.querySelector('#df-070dd83d-4727-4e52-b66d-5192b85e7f31 button.colab-df-convert');\n",
              "        buttonEl.style.display =\n",
              "          google.colab.kernel.accessAllowed ? 'block' : 'none';\n",
              "\n",
              "        async function convertToInteractive(key) {\n",
              "          const element = document.querySelector('#df-070dd83d-4727-4e52-b66d-5192b85e7f31');\n",
              "          const dataTable =\n",
              "            await google.colab.kernel.invokeFunction('convertToInteractive',\n",
              "                                                     [key], {});\n",
              "          if (!dataTable) return;\n",
              "\n",
              "          const docLinkHtml = 'Like what you see? Visit the ' +\n",
              "            '<a target=\"_blank\" href=https://colab.research.google.com/notebooks/data_table.ipynb>data table notebook</a>'\n",
              "            + ' to learn more about interactive tables.';\n",
              "          element.innerHTML = '';\n",
              "          dataTable['output_type'] = 'display_data';\n",
              "          await google.colab.output.renderOutput(dataTable, element);\n",
              "          const docLink = document.createElement('div');\n",
              "          docLink.innerHTML = docLinkHtml;\n",
              "          element.appendChild(docLink);\n",
              "        }\n",
              "      </script>\n",
              "    </div>\n",
              "  </div>\n",
              "  "
            ]
          },
          "metadata": {},
          "execution_count": 7
        }
      ]
    },
    {
      "cell_type": "code",
      "source": [
        "yrdata['PlantDate'] = pd.to_datetime(yrdata['PlantDate'])"
      ],
      "metadata": {
        "colab": {
          "base_uri": "https://localhost:8080/"
        },
        "id": "NNIPYZabTwrh",
        "outputId": "8da096e9-f123-4d1e-8e25-b105645218a8"
      },
      "execution_count": 9,
      "outputs": [
        {
          "output_type": "stream",
          "name": "stderr",
          "text": [
            "<ipython-input-9-1a3aa96dfacd>:1: SettingWithCopyWarning: \n",
            "A value is trying to be set on a copy of a slice from a DataFrame.\n",
            "Try using .loc[row_indexer,col_indexer] = value instead\n",
            "\n",
            "See the caveats in the documentation: https://pandas.pydata.org/pandas-docs/stable/user_guide/indexing.html#returning-a-view-versus-a-copy\n",
            "  yrdata['PlantDate'] = pd.to_datetime(yrdata['PlantDate'])\n"
          ]
        }
      ]
    },
    {
      "cell_type": "code",
      "source": [
        "yrdata['year'] = yrdata['PlantDate'].apply(lambda x: x.year)\n",
        "yrdata = yrdata[yrdata['year'] <=2023]"
      ],
      "metadata": {
        "colab": {
          "base_uri": "https://localhost:8080/"
        },
        "id": "0DNAKUu8Wyrm",
        "outputId": "c2915365-7d87-4819-df3e-1a319ccda694"
      },
      "execution_count": 63,
      "outputs": [
        {
          "output_type": "stream",
          "name": "stderr",
          "text": [
            "<ipython-input-63-264d8d611c64>:1: SettingWithCopyWarning: \n",
            "A value is trying to be set on a copy of a slice from a DataFrame.\n",
            "Try using .loc[row_indexer,col_indexer] = value instead\n",
            "\n",
            "See the caveats in the documentation: https://pandas.pydata.org/pandas-docs/stable/user_guide/indexing.html#returning-a-view-versus-a-copy\n",
            "  yrdata['year'] = yrdata['PlantDate'].apply(lambda x: x.year)\n"
          ]
        }
      ]
    },
    {
      "cell_type": "code",
      "source": [
        "yrdata['year'].unique()"
      ],
      "metadata": {
        "colab": {
          "base_uri": "https://localhost:8080/"
        },
        "id": "OOyGu7FLekZL",
        "outputId": "0d9d5926-fa30-4ad7-d91a-052e2118cf0a"
      },
      "execution_count": 64,
      "outputs": [
        {
          "output_type": "execute_result",
          "data": {
            "text/plain": [
              "array([2000, 2010, 2015, 2008, 2017, 2014, 2002, 2018, 2012, 2007, 1976,\n",
              "       2021, 2016, 2019, 2006, 1992, 2009, 1995, 1996, 1993, 1974, 1986,\n",
              "       1973, 1994, 2001, 2003, 1999, 1997, 2004, 2005, 2013, 2011, 1998,\n",
              "       1985, 1987, 1991, 1982, 2020, 1990, 1983, 1980, 1989, 1984, 1988,\n",
              "       1981, 1979, 1977, 1978, 2022, 1975])"
            ]
          },
          "metadata": {},
          "execution_count": 64
        }
      ]
    },
    {
      "cell_type": "code",
      "source": [
        "yrdata['decade'] = '{}0 - {}9'.format(str(yrdata['year'])[:3],str(yrdata['year'])[:3])"
      ],
      "metadata": {
        "colab": {
          "base_uri": "https://localhost:8080/"
        },
        "id": "AwAYGPiqW5iX",
        "outputId": "2a9077a3-d9b7-4484-e1c8-0390f94bcfe8"
      },
      "execution_count": 65,
      "outputs": [
        {
          "output_type": "stream",
          "name": "stderr",
          "text": [
            "<ipython-input-65-fd56c5008e4e>:1: SettingWithCopyWarning: \n",
            "A value is trying to be set on a copy of a slice from a DataFrame.\n",
            "Try using .loc[row_indexer,col_indexer] = value instead\n",
            "\n",
            "See the caveats in the documentation: https://pandas.pydata.org/pandas-docs/stable/user_guide/indexing.html#returning-a-view-versus-a-copy\n",
            "  yrdata['decade'] = '{}0 - {}9'.format(str(yrdata['year'])[:3],str(yrdata['year'])[:3])\n"
          ]
        }
      ]
    },
    {
      "cell_type": "code",
      "source": [
        "yrdata['decade'] = yrdata['year'].apply(lambda x: '{}0 - {}9'.format(str(x)[:3],str(x)[:3]))"
      ],
      "metadata": {
        "colab": {
          "base_uri": "https://localhost:8080/"
        },
        "id": "wJueJpEtZOsC",
        "outputId": "59d7ebeb-7548-40a8-b39b-dbde0a303ecb"
      },
      "execution_count": 66,
      "outputs": [
        {
          "output_type": "stream",
          "name": "stderr",
          "text": [
            "<ipython-input-66-4dd7a921a3ea>:1: SettingWithCopyWarning: \n",
            "A value is trying to be set on a copy of a slice from a DataFrame.\n",
            "Try using .loc[row_indexer,col_indexer] = value instead\n",
            "\n",
            "See the caveats in the documentation: https://pandas.pydata.org/pandas-docs/stable/user_guide/indexing.html#returning-a-view-versus-a-copy\n",
            "  yrdata['decade'] = yrdata['year'].apply(lambda x: '{}0 - {}9'.format(str(x)[:3],str(x)[:3]))\n"
          ]
        }
      ]
    },
    {
      "cell_type": "code",
      "source": [
        "yrdata['year'].unique()"
      ],
      "metadata": {
        "colab": {
          "base_uri": "https://localhost:8080/"
        },
        "id": "9_v6JLCfZyKS",
        "outputId": "2fdde012-500f-4829-a5f1-1ca5d2c6f72c"
      },
      "execution_count": 67,
      "outputs": [
        {
          "output_type": "execute_result",
          "data": {
            "text/plain": [
              "array([2000, 2010, 2015, 2008, 2017, 2014, 2002, 2018, 2012, 2007, 1976,\n",
              "       2021, 2016, 2019, 2006, 1992, 2009, 1995, 1996, 1993, 1974, 1986,\n",
              "       1973, 1994, 2001, 2003, 1999, 1997, 2004, 2005, 2013, 2011, 1998,\n",
              "       1985, 1987, 1991, 1982, 2020, 1990, 1983, 1980, 1989, 1984, 1988,\n",
              "       1981, 1979, 1977, 1978, 2022, 1975])"
            ]
          },
          "metadata": {},
          "execution_count": 67
        }
      ]
    },
    {
      "cell_type": "code",
      "source": [
        "test = set([entry.split(' ')[0] for entry in yrdata['qSpecies'].unique()])\n",
        "len(test)"
      ],
      "metadata": {
        "colab": {
          "base_uri": "https://localhost:8080/"
        },
        "id": "6WgnbnehULdR",
        "outputId": "92a0161b-c9d2-4789-f9b7-8f249532dd2f"
      },
      "execution_count": 15,
      "outputs": [
        {
          "output_type": "execute_result",
          "data": {
            "text/plain": [
              "116"
            ]
          },
          "metadata": {},
          "execution_count": 15
        }
      ]
    },
    {
      "cell_type": "code",
      "source": [
        "yrdata['PrimaryCaretaker'] = yrdata['qCaretaker'].apply(lambda x: 'Others' if (x!='DPW' and x!='Private') else x)"
      ],
      "metadata": {
        "colab": {
          "base_uri": "https://localhost:8080/"
        },
        "id": "W2uJMF_Wc016",
        "outputId": "cfe905a3-1a51-48f8-e597-6f7fe77ae978"
      },
      "execution_count": 68,
      "outputs": [
        {
          "output_type": "stream",
          "name": "stderr",
          "text": [
            "<ipython-input-68-fe71249864a0>:1: SettingWithCopyWarning: \n",
            "A value is trying to be set on a copy of a slice from a DataFrame.\n",
            "Try using .loc[row_indexer,col_indexer] = value instead\n",
            "\n",
            "See the caveats in the documentation: https://pandas.pydata.org/pandas-docs/stable/user_guide/indexing.html#returning-a-view-versus-a-copy\n",
            "  yrdata['PrimaryCaretaker'] = yrdata['qCaretaker'].apply(lambda x: 'Others' if (x!='DPW' and x!='Private') else x)\n"
          ]
        }
      ]
    },
    {
      "cell_type": "code",
      "source": [
        "yrdata.groupby(['decade','PrimaryCaretaker']).count()['TreeID'].to_csv('letmetry.csv')"
      ],
      "metadata": {
        "id": "lsfzoH_UccsY"
      },
      "execution_count": 72,
      "outputs": []
    },
    {
      "cell_type": "code",
      "source": [
        "yrdata['PlotSize'].unique()"
      ],
      "metadata": {
        "colab": {
          "base_uri": "https://localhost:8080/"
        },
        "id": "WLYsW-VnUxag",
        "outputId": "f32a7ef7-3556-4dc5-857f-c103a535d819"
      },
      "execution_count": 24,
      "outputs": [
        {
          "output_type": "execute_result",
          "data": {
            "text/plain": [
              "array([nan, '3x3', '5x5', '3X3', '4X4', 'Width 4ft', 'Width 3ft', '4x6',\n",
              "       '2X2', 'Width 2ft', '2X3', '3X4', 'Width 0ft', '4x4', '2x2', 'M',\n",
              "       '3x6', '3X6', '4', '5x6', '5', 'Width 6ft', 'Width 10ft', '6x6',\n",
              "       '2', '6x4', '5x7', '20', '8M', '4.5x6', '6x9', '9x12', 'Width 8ft',\n",
              "       '3X10', '10', '12x17', '3x30', '9x3', '3x5', '5x10', '14M',\n",
              "       'Width 5ft', '3x2', '9x9', '6x8', '3', '2x3', '3x12', '3x4',\n",
              "       '6x300', '4x8', '10x20', '3x100', '3x14', '3X5', '6x12', '6x3',\n",
              "       '3x9', 'CUT', '5X5', '2x4', '8', '1x2', '7x3', '1x4', '6', '6X6',\n",
              "       '8x6', '6x10', '4.5x5.5', '7x4', '.5x1', '6x5', '5x9', '15', '9x6',\n",
              "       '4x3', 'TR20', '12x31', '9', '3x10', '4x5', '10x10', '3c3', '4x10',\n",
              "       '6x18', '5.5x6.5', '3x8', '3X70', '3x25', '18x3', '4X6', '5x4',\n",
              "       'TR', '6x7', '2.9x31.8', '3X2', '5X8', '2x9', '7x7', '15x280',\n",
              "       '8x45', '5x3', 'ex3', '3x20', '2.5x3', '8x8', '10x4', '6x11',\n",
              "       '2x5', '4.5x5', '10x6', '4.5X4.5', '8x100', '10X10', '3X3PL',\n",
              "       '7x6', '3x13', '4x15', '3X30', '4x9', '4.5x7.5', '3.5x6', '3X9',\n",
              "       'Width 7ft', '4X3', '2.5x4', '60', '12', '4x18', '7x9', '10x100',\n",
              "       'Width 1ft', '10x90', '4x7', '6x4.5', '2X4', '12x4. 5', '9x7',\n",
              "       '6x50', '3x33x3', '8x10', '0x0', '8x9', '8x7'], dtype=object)"
            ]
          },
          "metadata": {},
          "execution_count": 24
        }
      ]
    },
    {
      "cell_type": "code",
      "source": [
        "yrdata['decade'].unique()"
      ],
      "metadata": {
        "colab": {
          "base_uri": "https://localhost:8080/"
        },
        "id": "EePdG3JRqdgS",
        "outputId": "39f0c5ef-ffb3-4494-dce2-0ab7bd1137ef"
      },
      "execution_count": 71,
      "outputs": [
        {
          "output_type": "execute_result",
          "data": {
            "text/plain": [
              "array(['2000 - 2009', '2010 - 2019', '1970 - 1979', '2020 - 2029',\n",
              "       '1990 - 1999', '1980 - 1989'], dtype=object)"
            ]
          },
          "metadata": {},
          "execution_count": 71
        }
      ]
    },
    {
      "cell_type": "code",
      "source": [
        "yrdata.to_csv('preprocessed_year_data.csv')"
      ],
      "metadata": {
        "id": "sHWTUy1-flY2"
      },
      "execution_count": 70,
      "outputs": []
    }
  ]
}